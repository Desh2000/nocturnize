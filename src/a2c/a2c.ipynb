{
  "nbformat": 4,
  "nbformat_minor": 0,
  "metadata": {
    "colab": {
      "provenance": []
    },
    "kernelspec": {
      "name": "python3",
      "display_name": "Python 3"
    },
    "language_info": {
      "name": "python"
    }
  },
  "cells": [
    {
      "cell_type": "code",
      "source": [
        "# --- RL AGENT HYPERPARAMETERS ---\n",
        "ACTOR_LR = 0.0005\n",
        "CRITIC_LR = 0.001\n",
        "GAMMA = 0.99\n",
        "TOTAL_EPISODES = 1000\n",
        "\n",
        "# --- FILE PATHS ---\n",
        "MODEL_PATH = \"models/\"\n",
        "\n",
        "# --- EV CHARGING ENVIRONMENT PARAMETERS ---\n",
        "# Nissan Leaf 40 kWh\n",
        "BATTERY_CAPACITY_KWH = 40.0\n",
        "# Using a typical Level 2 charger as a realistic parameter\n",
        "CHARGER_POWER_KW = 7.4\n",
        "\n",
        "# Simulation time from 6 PM (18:00) to 7 AM (07:00) the next day\n",
        "START_HOUR = 18\n",
        "END_HOUR = 7 # The simulation ends AT 7:00, so the last step is at 6:00\n",
        "DEADLINE_HOUR = END_HOUR\n",
        "\n",
        "# The agent must charge the EV to this level by the deadline\n",
        "TARGET_SOC_PERCENT = 99.0\n",
        "\n",
        "# To make training more robust, we start with a random SoC\n",
        "MIN_INITIAL_SOC_PERCENT = 10.0\n",
        "MAX_INITIAL_SOC_PERCENT = 50.0\n",
        "\n",
        "# --- CEB Time-of-Day (ToD) Tariff Structure ---\n",
        "PEAK_PRICE = 75.0      # Example price for peak hours\n",
        "OFF_PEAK_PRICE = 30.0  # Example price for off-peak hours\n",
        "PEAK_HOURS_START = 18  # 6 PM\n",
        "PEAK_HOURS_END = 22    # 10 PM\n",
        "\n",
        "# --- REWARD FUNCTION PARAMETERS ---\n",
        "REWARD_SUCCESS = 100.0   # Large bonus for meeting the charge target\n",
        "REWARD_FAILURE = -500.0  # Large penalty for failing to meet the target"
      ],
      "metadata": {
        "id": "2ViYFyDLPwZL"
      },
      "execution_count": null,
      "outputs": []
    }
  ]
}